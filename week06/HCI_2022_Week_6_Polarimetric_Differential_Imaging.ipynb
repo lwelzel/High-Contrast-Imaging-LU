{
 "cells": [
  {
   "cell_type": "markdown",
   "metadata": {},
   "source": [
    "***\n",
    "# HCI Week 6 - Polarimetric Differential Imaging\n",
    "*Matthew Kenworthy - Leiden Observatory*\n",
    "\n",
    "***\n",
    "For the last two weeks we have been focussing on coronagraphs. \n",
    "This week you will be looking at imaging data taken with a polarimeter.\n",
    "\n",
    "## Removing unpolarised starlight from observations\n",
    "The data is of a star surrounded by a nearly face-on dust disk. You will carry out difference imaging to remove the unpolarised stellar flux and let the polarised flux shine through. The disk can barely be seen in the intensity image, but is clearly seen in the degree of linear polarization image. \n",
    "\n",
    "The polarization state of photons encodes information about the scattering of the photon from dust in circumstellar disks, and from aerosols in planetary atmospheres.\n",
    "\n",
    "The polarization data is from NaCo, an imaging camera that sits at the Nasmyth focus of the Very Large Telescope (VLT), and the data is taken at a wavelength of 2.15 microns (K band). The data has been kindly provided by Jos de Boer at Leiden Observatory.\n",
    "\n",
    "NaCo takes two images of an astronomical object through a Wollaston prism, which splits incoming light into two orthogonal polarized images which we will refer to as Left (L) and Right (R).\n",
    "\n",
    "A Half-Wave Plate is rotated so that **4** different polarization angles are imaged in the sequence 0, 45, 90 and 135 degrees, and two polarized images are taken each time.\n",
    "\n",
    "The large number of images are taken so that time-varying and detector-varying effects can be removed. You will look at single differencing and double differencing.\n",
    "\n",
    "In effect, we are determining 3 numerical values for each pixel on the detector - representing $I, Q, U$ - and we have more data than unknown parameters.\n",
    "\n",
    "<img src=\"polarization_setup.png\" width=500px>\n",
    "\n",
    "The images themselves measure quantities that are expressed by these equations:\n",
    "\n",
    "<a id='equation1'></a>\n",
    "\n",
    "$$\\begin{aligned}S_0(L) &= I + Q + Q_{IP}\\\\\n",
    "S_1(L) &= I + U + U_{IP}\\\\\n",
    "S_2(L) &= I - Q + Q_{IP}\\\\\n",
    "S_3(L) &= I - U + U_{IP}\\\\\n",
    "&\\;\\;\\;\\;\\;\\text{and}\\\\\n",
    "S_0(R) &= I - Q - Q_{IP}\\\\\n",
    "S_1(R) &= I - U - U_{IP}\\\\\n",
    "S_2(R) &= I + Q - Q_{IP}\\\\\n",
    "S_3(R) &= I + U - U_{IP} \\end{aligned}$$\n",
    "\n",
    "...where $Q_{IP}$ and $U_{IP}$ are the instrumental polarizations - initially, you can assume that these are zero, but when considering double differencing later on, they are nonzero."
   ]
  },
  {
   "cell_type": "code",
   "execution_count": 1,
   "metadata": {},
   "outputs": [],
   "source": [
    "import numpy as np\n",
    "import matplotlib.pyplot as plt\n",
    "from astropy.io import fits\n",
    "%matplotlib inline\n",
    "\n",
    "def circle_mask(im, xc, yc, rcirc):\n",
    "    \"\"\"circle_mask - function that takes the input 2D array 'im' that evaluates the equation \n",
    "            (x-x_c)^2 + (y-y_c)^2 < r^2 with circle center coordinates (x_c, y_c) and a radius 'r'\n",
    "            as input parameters and return a mask array with the same shape as 'im'.\"\"\"\n",
    "    ny, nx = im.shape\n",
    "    y,x = np.mgrid[0:nx,0:ny]\n",
    "    r = np.sqrt((x-xc)*(x-xc) + (y-yc)*(y-yc))\n",
    "    return ( (r < rcirc))\n"
   ]
  },
  {
   "cell_type": "markdown",
   "metadata": {},
   "source": [
    "\n",
    "---\n",
    "<span style=\"  font-size:2em; color: SteelBlue;\">Question 6.1</span> <span style=\"  font-size:1em; color: SteelBlue;\">\n",
    "(2 points): </span>\n",
    "\n",
    "****\n",
    "\n",
    "1. **Read in the data cube from `ORD_EXT_4HWP.fits` into a numpy array. Call it `im`!**\n",
    "*  **Print out the following parameters:**\n",
    "   *  **The dimensions in the image contain the `L` and `R` images**\n",
    "   *  **The different position angles**\n",
    "   *  **The size and shape of the input images**\n",
    "\n",
    "<div class=\"alert alert-block alert-info\">\n",
    "<b>Tip 1:</b> All these parameters can be obtained using Pythons `.shape` method. </div>\n",
    "\n",
    "\n",
    "<div class=\"alert alert-block alert-info\">\n",
    "<b>Tip 2:</b> Recall that shapes start from dimention `0`. </div>\n",
    "\n",
    "---"
   ]
  },
  {
   "cell_type": "code",
   "execution_count": 2,
   "metadata": {},
   "outputs": [],
   "source": [
    "# Q1 answer here\n",
    "\n",
    "# print('The size of image is {:d}x{:d} pixels'.format(....))\n",
    "# print('The number of orthogonal frames, both ordinary and extraordinary = {:d}'.format(....))\n",
    "# print('The number of HWP positions = {:d}'.format(....))\n",
    "\n",
    "# Q1 end of answer"
   ]
  },
  {
   "cell_type": "markdown",
   "metadata": {},
   "source": [
    "## The intensity and difference images\n",
    "\n",
    "First, we look at the intensity image. Adding the `L` and `R` images together, and averaging over the 4 orientations of the polariser will produce the intensity image `Itot`.\n",
    "\n",
    "---\n",
    "<span style=\"  font-size:2em; color: SteelBlue;\">Question 6.2</span> <span style=\"  font-size:1em; color: SteelBlue;\">\n",
    "(2 points): </span>\n",
    "\n",
    "**Calculate `Itot` and display its log$_{10}$ with `ax.imshow`.**\n",
    "\n",
    "---\n"
   ]
  },
  {
   "cell_type": "code",
   "execution_count": 3,
   "metadata": {},
   "outputs": [],
   "source": [
    "# Q2 answer here\n",
    "\n",
    "# \n",
    "\n",
    "# Q2 end of answer"
   ]
  },
  {
   "cell_type": "markdown",
   "metadata": {},
   "source": [
    "Each `L` and `R` image pair are orthogonal polarisations. From the expressions in the [*equations* given before](#equation1) we find that summing and differencing the image pairs will produce an intensity and a polarisation image respectively.\n",
    "\n",
    "---\n",
    "<span style=\"  font-size:2em; color: SteelBlue;\">Question 6.3</span> <span style=\"  font-size:1em; color: SteelBlue;\">\n",
    "(2 points): </span>\n",
    "\n",
    "1. **Create `spos` and `sneg`, which are the sum and difference of the `L` and `R` images respectively.**\n",
    "*  **Write both images out to FITS images (call them `SPOS.fits` and `SNEG.fits`)**\n",
    "*  **Check that the SNEG images have the butterfly pattern in them in `ds9`.**\n",
    "*  **Use `imshow` with `vmin=-1000` and `vmax=1000` and display the 0 degree image in `sneg`.**\n",
    "\n",
    "\n",
    "<div class=\"alert alert-block alert-info\">\n",
    "<b>SANITY CHECK :</b> Check that you have subtracted the correct dimensions by printing out the <code>shape</code> of both of these arrays. Think about what you expect the <code>shape</code> of the output arrays to be. </div>\n",
    "\n",
    "5.  **Join dimension 1 of `sneg` and `spos` together into `sdif`.**\n",
    "\n",
    "<div class=\"alert alert-block alert-info\">\n",
    "<b>Tip: </b> Joining axes together can be done using the module <code>np.concatenate()</code> </div>\n",
    "\n",
    "---"
   ]
  },
  {
   "cell_type": "code",
   "execution_count": 4,
   "metadata": {},
   "outputs": [
    {
     "ename": "NameError",
     "evalue": "name 'spos' is not defined",
     "output_type": "error",
     "traceback": [
      "\u001b[1;31m---------------------------------------------------------------------------\u001b[0m",
      "\u001b[1;31mNameError\u001b[0m                                 Traceback (most recent call last)",
      "\u001b[1;32m~\\AppData\\Local\\Temp/ipykernel_6120/3853016980.py\u001b[0m in \u001b[0;36m<module>\u001b[1;34m\u001b[0m\n\u001b[0;32m      5\u001b[0m \u001b[1;31m# Q3 end of answer\u001b[0m\u001b[1;33m\u001b[0m\u001b[1;33m\u001b[0m\u001b[0m\n\u001b[0;32m      6\u001b[0m \u001b[1;33m\u001b[0m\u001b[0m\n\u001b[1;32m----> 7\u001b[1;33m \u001b[0mprint\u001b[0m\u001b[1;33m(\u001b[0m\u001b[1;34m\"The spos array has shape {}\"\u001b[0m\u001b[1;33m.\u001b[0m\u001b[0mformat\u001b[0m\u001b[1;33m(\u001b[0m\u001b[0mspos\u001b[0m\u001b[1;33m.\u001b[0m\u001b[0mshape\u001b[0m\u001b[1;33m)\u001b[0m\u001b[1;33m)\u001b[0m\u001b[1;33m\u001b[0m\u001b[1;33m\u001b[0m\u001b[0m\n\u001b[0m\u001b[0;32m      8\u001b[0m \u001b[0mprint\u001b[0m\u001b[1;33m(\u001b[0m\u001b[1;34m\"The sneg array has shape {}\"\u001b[0m\u001b[1;33m.\u001b[0m\u001b[0mformat\u001b[0m\u001b[1;33m(\u001b[0m\u001b[0msneg\u001b[0m\u001b[1;33m.\u001b[0m\u001b[0mshape\u001b[0m\u001b[1;33m)\u001b[0m\u001b[1;33m)\u001b[0m\u001b[1;33m\u001b[0m\u001b[1;33m\u001b[0m\u001b[0m\n\u001b[0;32m      9\u001b[0m \u001b[0mprint\u001b[0m\u001b[1;33m(\u001b[0m\u001b[1;34m\"The sdif array has shape {}\"\u001b[0m\u001b[1;33m.\u001b[0m\u001b[0mformat\u001b[0m\u001b[1;33m(\u001b[0m\u001b[0msdif\u001b[0m\u001b[1;33m.\u001b[0m\u001b[0mshape\u001b[0m\u001b[1;33m)\u001b[0m\u001b[1;33m)\u001b[0m\u001b[1;33m\u001b[0m\u001b[1;33m\u001b[0m\u001b[0m\n",
      "\u001b[1;31mNameError\u001b[0m: name 'spos' is not defined"
     ]
    }
   ],
   "source": [
    "# Q3 answer here\n",
    "\n",
    "# \n",
    "\n",
    "# Q3 end of answer\n",
    "\n",
    "print(\"The spos array has shape {}\".format(spos.shape))\n",
    "print(\"The sneg array has shape {}\".format(sneg.shape))\n",
    "print(\"The sdif array has shape {}\".format(sdif.shape))"
   ]
  },
  {
   "cell_type": "markdown",
   "metadata": {},
   "source": [
    "## Making a polarization image\n",
    "\n",
    "We can now look at the nearly face-on dust disk of the star for the first time by calculating the Polarised Intensity, $I_{pol}$. The polarised itensity is given by $$I_{pol} = \\sqrt{Q^2 + U^2}$$. \n",
    "\n",
    "---\n",
    "<span style=\"  font-size:2em; color: SteelBlue;\">Question 6.4</span> <span style=\"  font-size:1em; color: SteelBlue;\">\n",
    "(2 points): </span>\n",
    "\n",
    "**Calculate the polarised intensity by using the `sneg` images**\n",
    "\n",
    "1. **Define Q to be the first dimension image of `sneg`, and U as the second dimension image of `sneg`.**\n",
    "\n",
    "2.  **Calculate the polarised intensity, and call the image `Ipol`**\n",
    "*  **Display the image `Ipol` in the range $0$ to $1500$.**\n",
    "\n",
    "**Can you identify the disk already?**\n",
    "\n",
    "---"
   ]
  },
  {
   "cell_type": "code",
   "execution_count": null,
   "metadata": {},
   "outputs": [],
   "source": [
    "# Q4 answer here\n",
    "\n",
    "# \n",
    "\n",
    "# Q4 end of answer\n",
    "\n",
    "print(\"The Ipol image has shape {}\".format(Ipol.shape))"
   ]
  },
  {
   "cell_type": "markdown",
   "metadata": {},
   "source": [
    "## Plotting up the gain in contrast\n",
    "\n",
    "---\n",
    "<span style=\"  font-size:2em; color: SteelBlue;\">Question 6.5</span> <span style=\"  font-size:1em; color: SteelBlue;\">\n",
    "(2 points): </span>\n",
    "\n",
    "**Plot the flux of row number 50 in `Itot` as function of pixel. Overplot the same row in `Ipol` on the same graph. Make the y-axis have a logarithmic scale by using `ax=plt.gca()` to get the name of the current plotting window, and `ax.set_yscale('log')` to make it logarithmic.**\n",
    "\n",
    "<div class=\"alert alert-block alert-info\">\n",
    "<b>Remember :</b>  Label the axes as \"Spatial cut across image [pix]\" and a suitable title and units for the y-axis. Add a legend to distinguigh the two plots.</div>\n",
    "\n",
    "**Describe what you see**\n",
    "\n",
    "---\n"
   ]
  },
  {
   "cell_type": "code",
   "execution_count": null,
   "metadata": {},
   "outputs": [],
   "source": [
    "# Q5 answer here\n",
    "\n",
    "# \n",
    "\n",
    "# Q5 end of answer"
   ]
  },
  {
   "cell_type": "markdown",
   "metadata": {},
   "source": [
    "---\n",
    "<span style=\"  font-size:2em; color: SteelBlue;\">Question 6.6</span> <span style=\"  font-size:1em; color: SteelBlue;\">\n",
    "(1 point): </span>\n",
    "\n",
    "**Plot the ratio of the two lines above. By doing so, you get an idea of the fractional polarisation that is measured.**\n",
    "\n",
    "**Write down what the polarisation level is. Round your answer to whole percentages.**\n",
    "\n",
    "---"
   ]
  },
  {
   "cell_type": "code",
   "execution_count": null,
   "metadata": {},
   "outputs": [],
   "source": [
    "# Q6 answer here\n",
    "\n",
    "# \n",
    "\n",
    "# Q6 end of answer\n",
    "\n",
    "# print(\"The polarisation level is {} precent.\".format(....))\n"
   ]
  },
  {
   "cell_type": "markdown",
   "metadata": {},
   "source": [
    "## Double difference\n",
    "\n",
    "As mentioned in the introduction of this notebook, we have more images than there are parameters to measure. So, why do we have this extra data? We are measuring polarization by comparing intensities of the images. However, there is no guarantee that the transmission of optics forming the `L` and `R` images are the same. In addition, since we have to take a series of images in time, the instrument and the atmospheric conditions may have changed as well.\n",
    "\n",
    "---\n",
    "<span style=\"  font-size:2em; color: SteelBlue;\">Question 6.7</span> <span style=\"  font-size:1em; color: SteelBlue;\">\n",
    "(1 points): </span>\n",
    "\n",
    "**Using the definitions of $S(L)$ and $S(R)$ from the top of the practicum, write out what `spos` and `sneg` are in terms of `Q` and `U`.**\n",
    "\n",
    "---\n",
    " \n",
    "\n",
    "You see that you have four independent measurements of `I` and two independent measurements of `Q` and `U` in `spos` and `sneg`.  We can average the values in `spos` together to get `I`, thus combine the $S_0$ and $S_2$ components in `spos` to get `I`. To get `U` and `Q`, we can average the values in `sneg` together.\n",
    "\n",
    "---\n",
    "<span style=\"  font-size:2em; color: SteelBlue;\">Question 6.8</span> <span style=\"  font-size:1em; color: SteelBlue;\">\n",
    "(3 points): </span>\n",
    "\n",
    "1. **With `sneg`, combine the $S_0$ and $S_2$ values to get a value for `Q`.**\n",
    "* **Combine the $S_1$ and $S_3$ values to get a value for `U`.**\n",
    "* **Calculate the polarisation `P` using the same formula as for `Ipol`.**\n",
    "\n",
    "---\n",
    "\n",
    "The angle of polarisation $\\chi$ indicates the angle between the plane of polarisation and the plane of reference. This angle can be described by the formula:\n",
    "\n",
    "$$\\chi = \\frac{1}{2}\\arctan(\\texttt{U}/\\texttt{Q})$$\n",
    "\n",
    "---\n",
    "<span style=\"  font-size:2em; color: SteelBlue;\">Question 6.9</span> <span style=\"  font-size:1em; color: SteelBlue;\">\n",
    "(1 point): </span>\n",
    "\n",
    "**Calculate the angle of polarisation, $\\chi$, using the formula above. Call it `X`**\n",
    "\n",
    "---\n"
   ]
  },
  {
   "cell_type": "code",
   "execution_count": null,
   "metadata": {},
   "outputs": [],
   "source": [
    "# Q7, Q8, Q9 answers here\n",
    "\n",
    "# \n",
    "\n",
    "# Q7, Q8, Q9 end of answers \n"
   ]
  },
  {
   "cell_type": "markdown",
   "metadata": {},
   "source": [
    "## Polarization image versus Fractional polarization image\n",
    "\n",
    "---\n",
    "<span style=\"  font-size:2em; color: SteelBlue;\">Question 6.10</span> <span style=\"  font-size:1em; color: SteelBlue;\">\n",
    "(1 point): </span>\n",
    "\n",
    "1. **Display the polarization image with the min, max, pixel values (0-1500).**\n",
    "2. **Mask out a circle of radius 5 pixels in the middle of the polarisation image.** \n",
    "*  **Display the masked fractional polarisation images with (P/I) from 0 to 15% polarisation**\n",
    "\n",
    "\n",
    "<div class=\"alert alert-block alert-info\">\n",
    "<b>Recall:</b>  The value of 0.10 in the fractional polarisation image stands for 10% polarisation.</div>\n",
    "\n",
    "---"
   ]
  },
  {
   "cell_type": "code",
   "execution_count": null,
   "metadata": {},
   "outputs": [],
   "source": [
    "# Q10 answer here\n",
    "\n",
    "# \n",
    "\n",
    "# Q10 answer here    "
   ]
  },
  {
   "cell_type": "markdown",
   "metadata": {},
   "source": [
    "## Limits of signal to noise by looking at the polarization angle.\n",
    "\n",
    "The scattered light should be at right angles to the line between any spot on the disk and the central star. Plotting the polarization angle and seeing where it degenerates into noise gives a good indication where the polarization signal lies.\n",
    "\n",
    "---\n",
    "<span style=\"  font-size:2em; color: SteelBlue;\">Question 6.11</span> <span style=\"  font-size:1em; color: SteelBlue;\">\n",
    "(1 point): </span>\n",
    "\n",
    "**Display the polarisation angle map.** \n",
    "\n",
    "**Give your best estimation of the radii into which there is good signal to noise (where you clearly can identify the polarisaition signal)**\n",
    "\n",
    "---"
   ]
  },
  {
   "cell_type": "code",
   "execution_count": null,
   "metadata": {},
   "outputs": [],
   "source": [
    "# Q12 answer here\n",
    "\n",
    "# \n",
    "\n",
    "# Q12 end of answer"
   ]
  },
  {
   "cell_type": "markdown",
   "metadata": {},
   "source": [
    "\n",
    "---\n",
    "<span style=\"  font-size:2em; color: SteelBlue;\">Question 6.13</span> <span style=\"  font-size:1em; color: SteelBlue;\">\n",
    "(2 points): </span>\n",
    "\n",
    "**Make a circular annular mask centered on the star that blocks out the star at radii and the noisy polarisation angles at large radii (estimate by eye what outer radius to use).**\n",
    "\n",
    "**Use this mask to display the spiral arms in the disk in the fractional polarisation image.**\n"
   ]
  },
  {
   "cell_type": "code",
   "execution_count": null,
   "metadata": {},
   "outputs": [],
   "source": [
    "# Q13 answer here\n",
    "\n",
    "# \n",
    "\n",
    "\n",
    "# Q13 end of answer "
   ]
  },
  {
   "cell_type": "markdown",
   "metadata": {},
   "source": [
    "\n",
    "<div class=\"alert alert-block alert-info\">\n",
    "<b>REMEMBER:</b> to make sure your code compiles cleanly before submitting it! Do only upload the notebook to Brightspace in the correct naming format.</div>\n",
    "\n",
    "\n",
    "---\n",
    "\n",
    "<span style=\"  font-size:2em; color: SteelBlue;\">Your time has a value as well</span> \n",
    " </span>\n",
    "\n",
    "---\n",
    "\n",
    "### How long did this Practicum take?\n",
    "Please enter the number of hours you spent on this Practicum (including the time spend besides the time spend during the Lecture) below:\n"
   ]
  },
  {
   "cell_type": "code",
   "execution_count": null,
   "metadata": {},
   "outputs": [],
   "source": [
    "# Number of hours taken for this practicum:\n"
   ]
  }
 ],
 "metadata": {
  "kernelspec": {
   "display_name": "Python 3 (ipykernel)",
   "language": "python",
   "name": "python3"
  },
  "language_info": {
   "codemirror_mode": {
    "name": "ipython",
    "version": 3
   },
   "file_extension": ".py",
   "mimetype": "text/x-python",
   "name": "python",
   "nbconvert_exporter": "python",
   "pygments_lexer": "ipython3",
   "version": "3.9.7"
  }
 },
 "nbformat": 4,
 "nbformat_minor": 1
}
